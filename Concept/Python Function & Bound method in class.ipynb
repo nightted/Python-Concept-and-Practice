{
 "cells": [
  {
   "cell_type": "code",
   "execution_count": 28,
   "metadata": {},
   "outputs": [],
   "source": [
    "class Foo():\n",
    "    \n",
    "    # method without self as arg\n",
    "    def foo():\n",
    "        print(\"call foo\")\n",
    "       \n",
    "    # method with self as arg\n",
    "    def foo_one(self):\n",
    "        print(\"call foo_one\")"
   ]
  },
  {
   "cell_type": "code",
   "execution_count": 30,
   "metadata": {},
   "outputs": [
    {
     "data": {
      "text/plain": [
       "mappingproxy({'__module__': '__main__',\n",
       "              'foo': <function __main__.Foo.foo()>,\n",
       "              'foo_one': <function __main__.Foo.foo_one(self)>,\n",
       "              '__dict__': <attribute '__dict__' of 'Foo' objects>,\n",
       "              '__weakref__': <attribute '__weakref__' of 'Foo' objects>,\n",
       "              '__doc__': None})"
      ]
     },
     "execution_count": 30,
     "metadata": {},
     "output_type": "execute_result"
    }
   ],
   "source": [
    "Foo.__dict__"
   ]
  },
  {
   "cell_type": "code",
   "execution_count": 27,
   "metadata": {},
   "outputs": [
    {
     "name": "stdout",
     "output_type": "stream",
     "text": [
      "call foo\n",
      "Foo().foo() Error is : foo() takes 0 positional arguments but 1 was given\n",
      "Foo.foo_one() Error is : foo_one() missing 1 required positional argument: 'self'\n",
      "call foo_one\n"
     ]
    }
   ],
   "source": [
    "try:\n",
    "    Foo.foo()\n",
    "except Exception as e:\n",
    "    print(\"Foo.foo() Error is :\",e)\n",
    "try:\n",
    "    Foo().foo()\n",
    "except Exception as e:\n",
    "    print(\"Foo().foo() Error is :\",e)\n",
    "try:\n",
    "    Foo.foo_one()\n",
    "except Exception as e:\n",
    "    print(\"Foo.foo_one() Error is :\",e)\n",
    "try:\n",
    "    Foo().foo_one()\n",
    "except Exception as e:\n",
    "    print(\"Foo().foo_one() Error is :\",e)"
   ]
  },
  {
   "cell_type": "markdown",
   "metadata": {},
   "source": [
    "https://stackoverflow.com/questions/11949808/what-is-the-difference-between-a-function-an-unbound-method-and-a-bound-method/11950331\n",
    "\n",
    "#A function is created by the def statement, or by lambda. Under Python 2, when a function appears within the body of a class statement (or is passed to a type class construction call), it is transformed into an unbound method. (Python 3 doesn't have unbound methods; see below.) When a function is accessed on a class instance, it is transformed into a bound method, that \"automatically supplies the instance to the method as the first self parameter.\"\n",
    "\n",
    "#白話說就是 , 假設現在產生一個實例 Instance , 並呼叫當中一個 Function , 則這個 Function 就自動地轉換成 Bound method, 並且這個 Bound method 會自動將 Instance 自身當作 function 的第一個引數 ,傳入 function 當中 !!!\n",
    "\n",
    "#所以明顯第二個例子 error : Foo().foo() 是來自於, 實例Instance Foo()呼叫了foo(),且foo()轉換成了 bound method ,並將Foo()這個instance傳入 function 中,但是 foo() 這個 method 是沒有預設引數的! 故發生了 error. \n",
    "\n",
    "#第三個例子 error 則相反,因為 foo_one 定義了 self 引數 ,但 Foo.foo_one() 不是 bound method 而只是個 function , 所以也不會影引數自動傳入 function 裡 ,故發生了 error !\n"
   ]
  },
  {
   "cell_type": "code",
   "execution_count": 73,
   "metadata": {},
   "outputs": [
    {
     "name": "stdout",
     "output_type": "stream",
     "text": [
      "Foo.__dict__[foo].__get__(None,Foo)===> <bound method Foo.foo of <class '__main__.Foo'>>\n",
      "Foo.__dict__[foo].__get__(Foo(),Foo)===> <bound method Foo.foo of <class '__main__.Foo'>>\n",
      "Foo.__dict__[foo_one].__get__(None,Foo)===> <function Foo.foo_one at 0x000001E8EFA7DDC8>\n",
      "Foo.__dict__[foo_one].__get__(Foo(),Foo)=> <bound method Foo.foo_one of <__main__.Foo object at 0x000001E8EFA4F308>>\n"
     ]
    }
   ],
   "source": [
    "print(\"Foo.__dict__[foo].__get__(None,Foo)===>\",Foo.__dict__[\"foo\"].__get__(None,Foo))\n",
    "print(\"Foo.__dict__[foo].__get__(Foo(),Foo)===>\",Foo.__dict__[\"foo\"].__get__(Foo(),Foo))\n",
    "print(\"Foo.__dict__[foo_one].__get__(None,Foo)===>\",Foo.__dict__[\"foo_one\"].__get__(None,Foo))\n",
    "print(\"Foo.__dict__[foo_one].__get__(Foo(),Foo)=>\",Foo.__dict__[\"foo_one\"].__get__(Foo(),Foo))"
   ]
  },
  {
   "cell_type": "code",
   "execution_count": 76,
   "metadata": {},
   "outputs": [],
   "source": [
    "class Foo():\n",
    "    \n",
    "    # method without self as arg\n",
    "    @classmethod\n",
    "    def foo():\n",
    "        print(\"call foo\")\n",
    "        \n",
    "    @classmethod\n",
    "    def foo2(cls):\n",
    "        print(\"call foo2\")\n",
    "       \n",
    "    # method with self as arg\n",
    "    def foo_one(self):\n",
    "        print(\"call foo_one\")"
   ]
  },
  {
   "cell_type": "code",
   "execution_count": 82,
   "metadata": {},
   "outputs": [
    {
     "name": "stdout",
     "output_type": "stream",
     "text": [
      "Foo.foo() Error is : foo() takes 0 positional arguments but 1 was given\n",
      "call foo2\n"
     ]
    }
   ],
   "source": [
    "try:\n",
    "    Foo.foo()\n",
    "except Exception as e:\n",
    "    print(\"Foo.foo() Error is :\",e)\n",
    "try:\n",
    "    Foo.foo2()\n",
    "except Exception as e:\n",
    "    print(\"Foo.foo2() Error is :\",e)"
   ]
  },
  {
   "cell_type": "markdown",
   "metadata": {},
   "source": [
    "#看到這邊就能理解了吧 , 以上面例子來看 , 利用 @classmethod ,直接將 foo() \"function\" --轉換成--> \"Bound method\" , 故呼叫 \"class\" 等同於自動將 class 當引數傳入 foo() 當中, 但 foo() 當中沒有預設引數, 所以報 Error! \n",
    "\n",
    "#修改方式那就簡單啦, 直接在 foo() 當中預設引數 cls 就大功告成啦!"
   ]
  },
  {
   "cell_type": "code",
   "execution_count": null,
   "metadata": {},
   "outputs": [],
   "source": []
  }
 ],
 "metadata": {
  "kernelspec": {
   "display_name": "Python 3",
   "language": "python",
   "name": "python3"
  },
  "language_info": {
   "codemirror_mode": {
    "name": "ipython",
    "version": 3
   },
   "file_extension": ".py",
   "mimetype": "text/x-python",
   "name": "python",
   "nbconvert_exporter": "python",
   "pygments_lexer": "ipython3",
   "version": "3.7.6"
  }
 },
 "nbformat": 4,
 "nbformat_minor": 4
}
